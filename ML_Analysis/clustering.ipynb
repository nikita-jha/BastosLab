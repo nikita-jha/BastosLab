{
 "cells": [
  {
   "cell_type": "code",
   "execution_count": 1,
   "metadata": {},
   "outputs": [],
   "source": [
    "import pandas as pd\n",
    "import numpy as np\n"
   ]
  },
  {
   "cell_type": "markdown",
   "metadata": {},
   "source": [
    "First Step: PreProcess the Data\n",
    "1. We want all rows to represent one observation or one instance (e.x. data for one county in one year). We also want all columns to represent one feature, which is one type of information about the observation. For this, we used pivot_wide property of pandas in the AllData.ipynb file. \n",
    "2. Non-Numeric to Numeric Conversion: Columns that were previously objects (because of \"N/A\" strings) are now showing as float64, which means they have been succesfully converted to numeric. THis is important for numerical analysis and understanding. \n",
    "3. Handling Missing Values: The missing values are now represented NaN (Not a Number), which will be handled appropriately by Pandas and the ML libraries\n",
    "4. Data Summary using describe() to show column statistics, .dtypes() to confirm that all columns are of the correct data type, and nunique() to make sure each column's data has been succesfully read"
   ]
  },
  {
   "cell_type": "code",
   "execution_count": 3,
   "metadata": {},
   "outputs": [
    {
     "name": "stderr",
     "output_type": "stream",
     "text": [
      "/var/folders/dr/13q6jns56rldkk1nfqpc25240000gn/T/ipykernel_14308/3830620394.py:4: FutureWarning: Setting an item of incompatible dtype is deprecated and will raise in a future error of pandas. Value 'N/A' has dtype incompatible with float64, please explicitly cast to a compatible dtype first.\n",
      "  values_data.fillna(\"N/A\", inplace=True)\n"
     ]
    }
   ],
   "source": [
    "\n",
    "values_data = pd.read_csv(\"pivot_wide_format_data.csv\")\n",
    "\n",
    "#Replace all NaN values with \"N/A\"\n",
    "values_data.fillna(\"N/A\", inplace=True)\n",
    "\n",
    "values_data.replace(\"N/A\", np.nan, inplace=True)\n",
    "\n",
    "# List of column pairs to merge\n",
    "column_pairs = [\n",
    "    ('Child Mortality Rate (White)', 'Child Mortality Rate (white)'),\n",
    "    ('Drug Overdose Mortality Rate (White)', 'Drug Overdose Mortality Rate (white)'),\n",
    "    ('Firearm Fatalities Rate (White)', 'Firearm Fatalities Rate (white)'),\n",
    "    ('Homicide Rate (White)', 'Homicide Rate (white)'),\n",
    "    ('Infant Mortality Rate (White)', 'Infant Mortality Rate (white)'),\n",
    "    ('Injury Death Rate (White)', 'Injury Death Rate (white)'),\n",
    "    ('MV Mortality Rate (White)', 'MV Mortality Rate (white)'),\n",
    "    ('Suicide Rate (White)', 'Suicide Rate (white)'),\n",
    "    ('Teen Birth Rate (White)', 'Teen Birth Rate (white)'),\n",
    "    ('YPLL Rate (White)', 'YPLL Rate (white)'),\n",
    "    ('Preventable Hospitalization Rate', 'Preventable Hosp. Rate')\n",
    "]\n",
    "\n",
    "for pair in column_pairs:\n",
    "    column1, column2 = pair\n",
    "    # Combine the columns and prioritize the non-null values in the first column\n",
    "    values_data[column1] = values_data[column1].combine_first(values_data[column2])\n",
    "    # Drop the second column as its data has been merged\n",
    "    values_data.drop(column2, axis=1, inplace=True)\n",
    "\n",
    "#Convert object columns that should be numeric to float\n",
    "for column in values_data.columns:\n",
    "    if values_data[column].dtype == \"object\" and column not in [\"County\", \"Year\"]:\n",
    "        values_data[column] = pd.to_numeric(values_data[column], errors=\"coerce\")\n",
    "values_data.to_csv(\"pivot_wide_format_data_cleaned.csv\", index=False)\n",
    "\n"
   ]
  },
  {
   "cell_type": "code",
   "execution_count": 4,
   "metadata": {},
   "outputs": [
    {
     "name": "stdout",
     "output_type": "stream",
     "text": [
      "    County  Year  % Adults with Obesity  % Children in Poverty  \\\n",
      "0  Appling  2011                    NaN                   31.3   \n",
      "1  Appling  2012                    NaN                   35.7   \n",
      "2  Appling  2013                    NaN                   34.0   \n",
      "3  Appling  2014                    NaN                   34.8   \n",
      "4  Appling  2015                    NaN                   40.3   \n",
      "\n",
      "   % Excessive Drinking  % Smokers  % Unemployed  % Uninsured  ACSC Rate  \\\n",
      "0                  13.2       23.0           NaN    24.600000        NaN   \n",
      "1                  11.0       20.2     10.700000    23.700000        NaN   \n",
      "2                   9.6       24.8     11.000000    24.900000        NaN   \n",
      "3                   NaN       27.8     10.317788    25.189603        NaN   \n",
      "4                   NaN       27.8     10.023661    24.231524        NaN   \n",
      "\n",
      "   Age-Adjusted Death Rate  ...  Teen Birth Rate (Black)  \\\n",
      "0                      NaN  ...                      NaN   \n",
      "1                      NaN  ...                      NaN   \n",
      "2                      NaN  ...                      NaN   \n",
      "3                      NaN  ...                      NaN   \n",
      "4                      NaN  ...                      NaN   \n",
      "\n",
      "   Teen Birth Rate (Hispanic)  Teen Birth Rate (White)  Violent Crime Rate  \\\n",
      "0                         NaN                      NaN                 NaN   \n",
      "1                         NaN                      NaN                 NaN   \n",
      "2                         NaN                      NaN                 NaN   \n",
      "3                         NaN                      NaN          211.084650   \n",
      "4                         NaN                      NaN          186.018925   \n",
      "\n",
      "   YPLL Rate  YPLL Rate (Asian)  YPLL Rate (Black)  YPLL Rate (Hispanic)  \\\n",
      "0        NaN                NaN                NaN                   NaN   \n",
      "1        NaN                NaN                NaN                   NaN   \n",
      "2        NaN                NaN                NaN                   NaN   \n",
      "3        NaN                NaN                NaN                   NaN   \n",
      "4        NaN                NaN                NaN                   NaN   \n",
      "\n",
      "   YPLL Rate (White)  Years of Potential Life Lost Rate  \n",
      "0                NaN                                NaN  \n",
      "1                NaN                                NaN  \n",
      "2                NaN                                NaN  \n",
      "3                NaN                                NaN  \n",
      "4                NaN                                NaN  \n",
      "\n",
      "[5 rows x 77 columns]\n",
      "County                                object\n",
      "Year                                   int64\n",
      "% Adults with Obesity                float64\n",
      "% Children in Poverty                float64\n",
      "% Excessive Drinking                 float64\n",
      "                                      ...   \n",
      "YPLL Rate (Asian)                    float64\n",
      "YPLL Rate (Black)                    float64\n",
      "YPLL Rate (Hispanic)                 float64\n",
      "YPLL Rate (White)                    float64\n",
      "Years of Potential Life Lost Rate    float64\n",
      "Length: 77, dtype: object\n",
      "              Year  % Adults with Obesity  % Children in Poverty  \\\n",
      "count  2067.000000             636.000000            2067.000000   \n",
      "mean   2017.000000              36.049057              29.851766   \n",
      "std       3.742563               5.248488               9.582388   \n",
      "min    2011.000000              12.500000               5.100000   \n",
      "25%    2014.000000              32.800000              23.000000   \n",
      "50%    2017.000000              36.500000              30.700000   \n",
      "75%    2020.000000              39.325000              36.700000   \n",
      "max    2023.000000              57.700000              58.300000   \n",
      "\n",
      "       % Excessive Drinking    % Smokers  % Unemployed  % Uninsured  \\\n",
      "count           1757.000000  1815.000000   1908.000000  2067.000000   \n",
      "mean              14.380829    20.258496      7.147058    19.392455   \n",
      "std                3.360116     3.939306      2.999631     3.988761   \n",
      "min                0.600000     8.800000      2.183880     9.448764   \n",
      "25%               13.100000    17.767734      4.765094    16.519801   \n",
      "50%               15.000000    20.003200      6.563289    19.164107   \n",
      "75%               16.511896    22.800000      9.200849    22.002774   \n",
      "max               30.000000    44.100000     22.400000    42.800000   \n",
      "\n",
      "        ACSC Rate  Age-Adjusted Death Rate  \\\n",
      "count  604.000000               474.000000   \n",
      "mean    83.423163               478.191478   \n",
      "std     27.965956               102.900743   \n",
      "min     34.174701               202.727836   \n",
      "25%     63.424048               407.465097   \n",
      "50%     78.299750               484.242066   \n",
      "75%     95.206250               551.761371   \n",
      "max    199.671400               921.354412   \n",
      "\n",
      "       Age-Adjusted Death Rate-All Opioids  ...  Teen Birth Rate (Black)  \\\n",
      "count                           977.000000  ...               504.000000   \n",
      "mean                              7.962231  ...                37.113393   \n",
      "std                              10.503697  ...                15.122415   \n",
      "min                               0.000000  ...                 4.967710   \n",
      "25%                               0.000000  ...                24.971702   \n",
      "50%                               4.200000  ...                37.478568   \n",
      "75%                              13.300000  ...                47.936292   \n",
      "max                              75.900000  ...                71.875000   \n",
      "\n",
      "       Teen Birth Rate (Hispanic)  Teen Birth Rate (White)  \\\n",
      "count                  339.000000               535.000000   \n",
      "mean                    43.189480                29.925010   \n",
      "std                     18.546754                13.413669   \n",
      "min                      8.165646                 2.271994   \n",
      "25%                     30.330145                21.135580   \n",
      "50%                     40.358744                29.995162   \n",
      "75%                     54.945055                37.632854   \n",
      "max                    102.167183                77.868852   \n",
      "\n",
      "       Violent Crime Rate     YPLL Rate  YPLL Rate (Asian)  YPLL Rate (Black)  \\\n",
      "count         1649.000000    628.000000          31.000000         418.000000   \n",
      "mean           320.912799   9468.093949        3273.591468       11879.087833   \n",
      "std            206.292786   2107.320965        1118.559191        3292.180967   \n",
      "min              0.000000   4052.150000        1422.108274        4697.512123   \n",
      "25%            174.153255   8036.300000        2222.407884        9892.326727   \n",
      "50%            283.493370   9419.750000        3502.760653       12058.909341   \n",
      "75%            419.121521  10692.652500        3859.518315       13675.115736   \n",
      "max           1717.731948  19239.540000        5418.072895       30826.377168   \n",
      "\n",
      "       YPLL Rate (Hispanic)  YPLL Rate (White)  \\\n",
      "count            100.000000         419.000000   \n",
      "mean            4335.243629        9454.111235   \n",
      "std             1202.085483        2328.574740   \n",
      "min             2217.112850        3969.567492   \n",
      "25%             3540.666660        7960.610588   \n",
      "50%             4275.919147        9532.983337   \n",
      "75%             5105.368938       10988.655870   \n",
      "max             8129.168394       18903.980792   \n",
      "\n",
      "       Years of Potential Life Lost Rate  \n",
      "count                        1389.000000  \n",
      "mean                         9290.782779  \n",
      "std                          2025.812242  \n",
      "min                          3832.623844  \n",
      "25%                          7927.750812  \n",
      "50%                          9292.392122  \n",
      "75%                         10659.150000  \n",
      "max                         19590.008352  \n",
      "\n",
      "[8 rows x 76 columns]\n",
      "County                                159\n",
      "Year                                   13\n",
      "% Adults with Obesity                 206\n",
      "% Children in Poverty                 423\n",
      "% Excessive Drinking                 1114\n",
      "                                     ... \n",
      "YPLL Rate (Asian)                      22\n",
      "YPLL Rate (Black)                     309\n",
      "YPLL Rate (Hispanic)                   71\n",
      "YPLL Rate (White)                     310\n",
      "Years of Potential Life Lost Rate    1237\n",
      "Length: 77, dtype: int64\n"
     ]
    }
   ],
   "source": [
    "print(values_data.head())\n",
    "\n",
    "print(values_data.dtypes)\n",
    "\n",
    "print(values_data.describe())\n",
    "\n",
    "print(values_data.nunique())\n"
   ]
  },
  {
   "cell_type": "markdown",
   "metadata": {},
   "source": [
    "Second Step: Data Scaling\n",
    "Scale the numerical data to ensure that all features contribute equally to the distance calculation in the clustering algorithm. Without scaling, features with larger ranges could influence the model more than features with smaller ranges. Scaling prevents this by ensuring that each feature has a similar influence on the model. \n",
    "\n",
    "For K-Means Clustering, we will be using standardization (Z-Score normalization) since K-Means is a distance-based algorithm and standardization maintains the effect of outliers in the data. In standardization, the features are rescaled so that they have properties of a standard normal distribution with a mean of 0 and standard deviation from the mean of 1. Standardization can be calculated as X - mean / (standard deviations from mean) where X represents the original value of the feature. In Pandas, we will use 'StandardScaler' from the 'sklearn.preprocessing' library\n",
    "\n",
    "Some other data scaling techniques include min-max scaling (getting all values between given range) and robust scaling (uses the median and interquartile range or IQR so its robust to outliers)"
   ]
  },
  {
   "cell_type": "code",
   "execution_count": 7,
   "metadata": {},
   "outputs": [
    {
     "name": "stdout",
     "output_type": "stream",
     "text": [
      "Collecting scikit-learn\n",
      "  Downloading scikit_learn-1.4.0-1-cp39-cp39-macosx_10_9_x86_64.whl (11.6 MB)\n",
      "\u001b[K     |████████████████████████████████| 11.6 MB 17.6 MB/s eta 0:00:01\n",
      "\u001b[?25hRequirement already satisfied: numpy<2.0,>=1.19.5 in /Users/nikitajha/Documents/NikitaFinal/Coding Projects/Bastos Lab/my_new_env/lib/python3.9/site-packages (from scikit-learn) (1.26.1)\n",
      "Collecting joblib>=1.2.0\n",
      "  Downloading joblib-1.3.2-py3-none-any.whl (302 kB)\n",
      "\u001b[K     |████████████████████████████████| 302 kB 10.2 MB/s eta 0:00:01\n",
      "\u001b[?25hCollecting threadpoolctl>=2.0.0\n",
      "  Downloading threadpoolctl-3.2.0-py3-none-any.whl (15 kB)\n",
      "Collecting scipy>=1.6.0\n",
      "  Downloading scipy-1.12.0-cp39-cp39-macosx_10_9_x86_64.whl (38.9 MB)\n",
      "\u001b[K     |████████████████████████████████| 38.9 MB 959 kB/s eta 0:00:011\n",
      "\u001b[?25hInstalling collected packages: threadpoolctl, scipy, joblib, scikit-learn\n",
      "Successfully installed joblib-1.3.2 scikit-learn-1.4.0 scipy-1.12.0 threadpoolctl-3.2.0\n",
      "\u001b[33mWARNING: You are using pip version 21.1.1; however, version 23.3.2 is available.\n",
      "You should consider upgrading via the '/Users/nikitajha/Documents/NikitaFinal/Coding Projects/Bastos Lab/my_new_env/bin/python -m pip install --upgrade pip' command.\u001b[0m\n",
      "Note: you may need to restart the kernel to use updated packages.\n"
     ]
    }
   ],
   "source": [
    "pip install scikit-learn"
   ]
  },
  {
   "cell_type": "code",
   "execution_count": 8,
   "metadata": {},
   "outputs": [],
   "source": [
    "\n",
    "from sklearn.preprocessing import StandardScaler\n",
    "import pandas as pd \n",
    "\n",
    "#1. Seperate Features from Identifiers (County and Year). We don't want to scale identifier columns\n",
    "identifiers = values_data[['County', 'Year']]\n",
    "features = values_data.drop(['County', 'Year'], axis=1)\n",
    "\n",
    "#2. Initialize Standard Scaler \n",
    "scaler = StandardScaler()\n",
    "\n",
    "#3. Fit and transform the scaler on the features\n",
    "scaled_features = scaler.fit_transform(features)\n",
    "\n",
    "#The output of Standard Scaler is a NumPy array, so convert it back to a Data Frame \n",
    "scaled_features_df = pd.DataFrame(scaled_features, columns=features.columns)\n",
    "\n",
    "#Combine the scaled features with the identifiers\n",
    "data_scaled = pd.concat([identifiers, scaled_features_df], axis=1)\n",
    "\n",
    "#Save the scaled data to a csv \n",
    "data_scaled.to_csv(\"pivot_wide_format_data_scaled.csv\", index=False)\n",
    " "
   ]
  },
  {
   "cell_type": "markdown",
   "metadata": {},
   "source": [
    "Step 3: K-Means Clustering Overview\n",
    "K-Means is a centroid-based algorithm that aims to partition the dataset into k clusters in which each observation belongs to the cluster with the nearest mean. The steps typically involved in k-means clustering are (1) Initialization: choose k initial centroids (either randomly or based on some data-driven heuristic) (2) Assignment: Assign each observation to the cluster with the nearest centroid. (3) Update: Recalulcate the centroids as the mean of all observations assigned to each cluster. (4) Iteration: Repeat the assignment and update steps until the centroids do not change significantly or a maximum number of iterations is reached. "
   ]
  },
  {
   "cell_type": "code",
   "execution_count": null,
   "metadata": {},
   "outputs": [],
   "source": [
    "#1. Apply the elbow method to determine the optimal number of clusters. The elbow method works by running the K-means \n",
    "# clustering on the dataset for a range of values (k=1 through 10), and for each value of K, you calculate the sum of \n",
    "# squared distances from each point to its assigned center. When you plot these values, the \"elbow\" is considered to be \n",
    "# an indicator of the appropriate number of clusters. The intuition behind the elbow method is that increasing the number\n",
    "# of clusters will naturally improve the fit (explain more of the variation), since there are more parameters (cluster)\n",
    "# to use, but at some point, there is overfitting, and the elbow reflects this. \n",
    "\n",
    "# Approach: Try each possiblity to see which gives the best values. Imputing NaN with mean. Removing\n",
    "# NaN entirely. Going with DBSCAN"
   ]
  },
  {
   "cell_type": "code",
   "execution_count": 42,
   "metadata": {},
   "outputs": [],
   "source": [
    "from sklearn.impute import SimpleImputer \n",
    "\n",
    "identifiers = values_data[['County', 'Year']]\n",
    "features = values_data.drop(['County', 'Year'], axis=1)\n",
    "\n",
    "# Calculate the percentage of NaN values in each column\n",
    "nan_percentage = features.isna().mean() * 100\n",
    "\n",
    "# Identify columns with more than a certain percentage of NaN values (e.g., more than 50%)\n",
    "threshold = 30  # You can change the threshold as needed\n",
    "\n",
    "# Drop these columns from the DataFrame\n",
    "data_cleaned = features.loc[:, nan_percentage <= threshold]\n",
    "\n",
    "#Strategy 1: Impute Missing Values with the Mean\n",
    "imputer_mean = SimpleImputer(strategy='mean')\n",
    "\n",
    "#Apply imputation to the filtered data\n",
    "data_imputed_mean = pd.DataFrame(imputer_mean.fit_transform(data_cleaned), columns=data_cleaned.columns)\n",
    "values_data_imputed = pd.concat([identifiers.reset_index(drop=True), data_imputed_mean.reset_index(drop=True)], axis=1)\n",
    "\n",
    "#Strategy 2: Drop Missing Values \n",
    "data_dropped_na = data_cleaned.dropna()\n",
    "values_data_dropped = pd.concat([identifiers.reset_index(drop=True), data_imputed_mean.reset_index(drop=True)], axis=1)"
   ]
  },
  {
   "cell_type": "code",
   "execution_count": 45,
   "metadata": {},
   "outputs": [
    {
     "name": "stdout",
     "output_type": "stream",
     "text": [
      "Imputed Data\n"
     ]
    },
    {
     "data": {
      "image/png": "[encoded data removed]",
      "text/plain": [
       "<Figure size 640x480 with 1 Axes>"
      ]
     },
     "metadata": {},
     "output_type": "display_data"
    },
    {
     "name": "stdout",
     "output_type": "stream",
     "text": [
      "Dropped Data\n"
     ]
    },
    {
     "data": {
      "image/png": "[encoded data removed]",
      "text/plain": [
       "<Figure size 640x480 with 1 Axes>"
      ]
     },
     "metadata": {},
     "output_type": "display_data"
    }
   ],
   "source": [
    "from sklearn.cluster import KMeans \n",
    "import matplotlib.pyplot as plt\n",
    "\n",
    "def apply_elbow_method(scaled_data):\n",
    "    wcss = [] #Within cluster sum of squares \n",
    "    for i in range(1,11): #Trying different numbers of clusters\n",
    "        kmeans = KMeans(n_clusters=i, init='k-means++', max_iter=300, n_init=10, random_state=0)\n",
    "        kmeans.fit(scaled_data.drop(['County', 'Year'], axis=1)) #Fit the scaled data\n",
    "        wcss.append(kmeans.inertia_) # Append the within-cluster sum of squares \n",
    "\n",
    "    # Plot the elbow graph \n",
    "    plt.plot(range(1,11), wcss)\n",
    "    plt.title(\"Elbow Method\")\n",
    "    plt.xlabel(\"Number of Clusters\")\n",
    "    plt.ylabel(\"WCSS\")\n",
    "    plt.show()\n",
    "\n",
    "#1. Mean Imputed Data\n",
    "print(\"Imputed Data\")\n",
    "apply_elbow_method(values_data_imputed)\n",
    "\n",
    "print(\"Dropped Data\")\n",
    "apply_elbow_method(values_data_dropped)"
   ]
  }
 ],
 "metadata": {
  "kernelspec": {
   "display_name": "my_new_env",
   "language": "python",
   "name": "python3"
  },
  "language_info": {
   "codemirror_mode": {
    "name": "ipython",
    "version": 3
   },
   "file_extension": ".py",
   "mimetype": "text/x-python",
   "name": "python",
   "nbconvert_exporter": "python",
   "pygments_lexer": "ipython3",
   "version": "3.9.5"
  }
 },
 "nbformat": 4,
 "nbformat_minor": 2
}
