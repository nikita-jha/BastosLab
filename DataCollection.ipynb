{
 "cells": [
  {
   "cell_type": "code",
   "execution_count": 12,
   "metadata": {},
   "outputs": [],
   "source": [
    "import pandas as pd\n",
    "import os\n"
   ]
  },
  {
   "cell_type": "code",
   "execution_count": 39,
   "metadata": {},
   "outputs": [
    {
     "name": "stdout",
     "output_type": "stream",
     "text": [
      "The file 2023 County Health Rankings Georgia Data - v3.xlsx exists and is accessible.\n"
     ]
    }
   ],
   "source": [
    "filename = \"2023 County Health Rankings Georgia Data - v3.xlsx\"\n",
    "\n",
    "if os.path.exists(filename):\n",
    "    print(f\"The file {filename} exists and is accessible.\")\n",
    "else:\n",
    "    print(f\"The file {filename} does not exist or is not accessible.\")"
   ]
  },
  {
   "cell_type": "code",
   "execution_count": 40,
   "metadata": {},
   "outputs": [],
   "source": [
    "ranked_measure_data = pd.read_excel(filename, sheet_name=\"Ranked Measure Data\", header=1)\n",
    "additional_measure_data = pd.read_excel(filename, sheet_name=\"Additional Measure Data\", engine=\"openpyxl\")"
   ]
  },
  {
   "cell_type": "code",
   "execution_count": 41,
   "metadata": {},
   "outputs": [
    {
     "name": "stdout",
     "output_type": "stream",
     "text": [
      "    FIPS    State    County Unreliable    Deaths  \\\n",
      "0  13000  Georgia       NaN        NaN  143179.0   \n",
      "1  13001  Georgia   Appling        NaN     379.0   \n",
      "2  13003  Georgia  Atkinson        NaN     154.0   \n",
      "3  13005  Georgia     Bacon        NaN     241.0   \n",
      "4  13007  Georgia     Baker          x       NaN   \n",
      "\n",
      "   Years of Potential Life Lost Rate  95% CI - Low  95% CI - High   Z-Score  \\\n",
      "0                        8016.730946   7955.977709    8077.484183       NaN   \n",
      "1                       11113.699673   9345.538818   12881.860528  0.501568   \n",
      "2                       11429.804405   8738.789750   14120.819061  0.644947   \n",
      "3                       12649.824162  10392.750491   14906.897832  1.198325   \n",
      "4                                NaN           NaN            NaN  0.000000   \n",
      "\n",
      "   YPLL Rate (AIAN)  ...  % Drive Alone (Hispanic) 95% CI - Low  \\\n",
      "0       2896.759045  ...                              65.483151   \n",
      "1               NaN  ...                                    NaN   \n",
      "2               NaN  ...                                    NaN   \n",
      "3               NaN  ...                                    NaN   \n",
      "4               NaN  ...                                    NaN   \n",
      "\n",
      "   % Drive Alone (Hispanic) 95% CI - High  % Drive Alone (White)  \\\n",
      "0                               67.153833              78.847660   \n",
      "1                                     NaN              83.927218   \n",
      "2                                     NaN                    NaN   \n",
      "3                                     NaN                    NaN   \n",
      "4                                     NaN                    NaN   \n",
      "\n",
      "   % Drive Alone (White) 95% CI - Low  % Drive Alone (White) 95% CI - High  \\\n",
      "0                           78.507120                            79.188199   \n",
      "1                           78.188212                            89.666223   \n",
      "2                                 NaN                                  NaN   \n",
      "3                                 NaN                                  NaN   \n",
      "4                                 NaN                                  NaN   \n",
      "\n",
      "   # Workers who Drive Alone  % Long Commute - Drives Alone  95% CI - Low.19  \\\n",
      "0                    4926936                           42.2        41.770402   \n",
      "1                       7300                           29.1        21.418820   \n",
      "2                       3407                           34.6        26.020449   \n",
      "3                       4198                           31.3        22.869002   \n",
      "4                        859                           38.5        21.484631   \n",
      "\n",
      "   95% CI - High.19  Z-Score.33  \n",
      "0         42.629598         NaN  \n",
      "1         36.781180   -0.790833  \n",
      "2         43.179551   -0.333588  \n",
      "3         39.730998   -0.607935  \n",
      "4         55.515369   -0.009359  \n",
      "\n",
      "[5 rows x 246 columns]\n",
      "  Unnamed: 0 Unnamed: 1 Unnamed: 2  Life Expectancy    Unnamed: 4  \\\n",
      "0       FIPS      State     County  Life Expectancy  95% CI - Low   \n",
      "1      13000    Georgia        NaN        77.309261     77.252649   \n",
      "2      13001    Georgia    Appling         73.87281     72.503273   \n",
      "3      13003    Georgia   Atkinson        73.076566     71.028239   \n",
      "4      13005    Georgia      Bacon         72.45924     70.820697   \n",
      "\n",
      "      Unnamed: 5              Unnamed: 6                           Unnamed: 7  \\\n",
      "0  95% CI - High  Life Expectancy (AIAN)  Life Expectancy (AIAN) 95% CI - Low   \n",
      "1      77.365874              133.416914                           109.807844   \n",
      "2      75.242347                     NaN                                  NaN   \n",
      "3      75.124894                     NaN                                  NaN   \n",
      "4      74.097782                     NaN                                  NaN   \n",
      "\n",
      "                             Unnamed: 8               Unnamed: 9  ...  \\\n",
      "0  Life Expectancy (AIAN) 95% CI - High  Life Expectancy (Asian)  ...   \n",
      "1                            157.025984                87.409696  ...   \n",
      "2                                   NaN                      NaN  ...   \n",
      "3                                   NaN                      NaN  ...   \n",
      "4                                   NaN                      NaN  ...   \n",
      "\n",
      "  Unnamed: 278  % Non-Hispanic White          Unnamed: 280  \\\n",
      "0   % Hispanic  # Non-Hispanic White  % Non-Hispanic White   \n",
      "1    10.230374               5510193             51.022356   \n",
      "2    10.303981                 12626             68.292947   \n",
      "3    27.457991                  4550             54.224765   \n",
      "4     8.764329                  8050             72.659987   \n",
      "\n",
      "   % Not Proficient in English                 Unnamed: 282  Unnamed: 283  \\\n",
      "0  # Not Proficient in English  % Not Proficient in English  95% CI - Low   \n",
      "1                       265531                     2.660126      2.592442   \n",
      "2                          419                     2.407769      1.021604   \n",
      "3                          954                    12.300155      8.443033   \n",
      "4                          163                       1.5646             0   \n",
      "\n",
      "    Unnamed: 284   % Female            % Rural Unnamed: 287  \n",
      "0  95% CI - High   % Female  # Rural Residents      % Rural  \n",
      "1       2.727809  51.203956            2415502     24.93382  \n",
      "2       3.793934   49.90264              13028    71.441106  \n",
      "3      16.157277  49.207484               8375          100  \n",
      "4       3.558311  51.159852               7688    69.286229  \n",
      "\n",
      "[5 rows x 288 columns]\n"
     ]
    }
   ],
   "source": [
    "print(ranked_measure_data.head())\n",
    "print(additional_measure_data.head())"
   ]
  },
  {
   "cell_type": "code",
   "execution_count": 42,
   "metadata": {},
   "outputs": [
    {
     "name": "stdout",
     "output_type": "stream",
     "text": [
      "['FIPS', 'State', 'County', 'Unreliable', 'Deaths', 'Years of Potential Life Lost Rate', '95% CI - Low', '95% CI - High', 'Z-Score', 'YPLL Rate (AIAN)', 'YPLL Rate (AIAN) 95% CI - Low', 'YPLL Rate (AIAN) 95% CI - High', 'YPLL Rate (AIAN) Unreliable', 'YPLL Rate (Asian)', 'YPLL Rate (Asian) 95% CI - Low', 'YPLL Rate (Asian) 95% CI - High', 'YPLL Rate (Asian) Unreliable', 'YPLL Rate (Black)', 'YPLL Rate (Black) 95% CI - Low', 'YPLL Rate (Black) 95% CI - High', 'YPLL Rate (Black) Unreliable', 'YPLL Rate (Hispanic)', 'YPLL Rate (Hispanic) 95% CI - Low', 'YPLL Rate (Hispanic) 95% CI - High', 'YPLL Rate (Hispanic) Unreliable', 'YPLL Rate (White)', 'YPLL Rate (White) 95% CI - Low', 'YPLL Rate (White) 95% CI - High', 'YPLL Rate (White) Unreliable', '% Fair or Poor Health', '95% CI - Low.1', '95% CI - High.1', 'Z-Score.1', 'Average Number of Physically Unhealthy Days', '95% CI - Low.2', '95% CI - High.2', 'Z-Score.2', 'Average Number of Mentally Unhealthy Days', '95% CI - Low.3', '95% CI - High.3', 'Z-Score.3', 'Unreliable.1', '% Low Birthweight', '95% CI - Low.4', '95% CI - High.4', 'Z-Score.4', '% LBW (AIAN)', '% LBW (AIAN) 95% CI - Low', '% LBW (AIAN) 95% CI - High', '% LBW (Asian)', '% LBW (Asian) 95% CI - Low', '% LBW (Asian) 95% CI - High', '% LBW (Black)', '% LBW (Black) 95% CI - Low', '% LBW (Black) 95% CI - High', '% LBW (Hispanic)', '% LBW (Hispanic) 95% CI - Low', '% LBW (Hispanic) 95% CI - High', '% LBW (White)', '% LBW (White) 95% CI - Low', '% LBW (White) 95% CI - High', '% Adults Reporting Currently Smoking', '95% CI - Low.5', '95% CI - High.5', 'Z-Score.5', '% Adults with Obesity', '95% CI - Low.6', '95% CI - High.6', 'Z-Score.6', 'Food Environment Index', 'Z-Score.7', '% Physically Inactive', '95% CI - Low.7', '95% CI - High.7', 'Z-Score.8', '% With Access to Exercise Opportunities', 'Z-Score.9', '% Excessive Drinking', '95% CI - Low.8', '95% CI - High.8', 'Z-Score.10', '# Alcohol-Impaired Driving Deaths', '# Driving Deaths', '% Driving Deaths with Alcohol Involvement', '95% CI - Low.9', '95% CI - High.9', 'Z-Score.11', '# Chlamydia Cases', 'Chlamydia Rate', 'Z-Score.12', 'Teen Birth Rate', '95% CI - Low.10', '95% CI - High.10', 'Z-Score.13', 'Teen Birth Rate (AIAN)', 'Teen Birth Rate (AIAN) 95% CI - Low', 'Teen Birth Rate (AIAN) 95% CI - High', 'Teen Birth Rate (Asian)', 'Teen Birth Rate (Asian) 95% CI - Low', 'Teen Birth Rate (Asian) 95% CI - High', 'Teen Birth Rate (Black)', 'Teen Birth Rate (Black) 95% CI - Low', 'Teen Birth Rate (Black) 95% CI - High', 'Teen Birth Rate (Hispanic)', 'Teen Birth Rate (Hispanic) 95% CI - Low', 'Teen Birth Rate (Hispanic) 95% CI - High', 'Teen Birth Rate (White)', 'Teen Birth Rate (White) 95% CI - Low', 'Teen Birth Rate (White) 95% CI - High', '# Uninsured', '% Uninsured', '95% CI - Low.11', '95% CI - High.11', 'Z-Score.14', '# Primary Care Physicians', 'Primary Care Physicians Rate', 'Primary Care Physicians Ratio', 'Z-Score.15', '# Dentists', 'Dentist Rate', 'Dentist Ratio', 'Z-Score.16', '# Mental Health Providers', 'Mental Health Provider Rate', 'Mental Health Provider Ratio', 'Z-Score.17', 'Preventable Hospitalization Rate', 'Z-Score.18', 'Preventable Hosp. Rate (AIAN)', 'Preventable Hosp. Rate (Asian)', 'Preventable Hosp. Rate (Black)', 'Preventable Hosp. Rate (Hispanic)', 'Preventable Hosp. Rate (White)', '% with Annual Mammogram', 'Z-Score.19', '% Screened (AIAN)', '% Screened (Asian)', '% Screened (Black)', '% Screened (Hispanic)', '% Screened (White)', '% Vaccinated', 'Z-Score.20', '% Vaccinated (AIAN)', '% Vaccinated (Asian)', '% Vaccinated (Black)', '% Vaccinated (Hispanic)', '% Vaccinated (White)', '# Completed High School', 'Population', '% Completed High School', '95% CI - Low.12', '95% CI - High.12', 'Z-Score.21', '# Some College', 'Population.1', '% Some College', '95% CI - Low.13', '95% CI - High.13', 'Z-Score.22', '# Unemployed', 'Labor Force', '% Unemployed', 'Z-Score.23', '% Children in Poverty', '95% CI - Low.14', '95% CI - High.14', 'Z-Score.24', '% Children in Poverty (AIAN)', '% Children in Poverty (Asian)', '% Children in Poverty (Black)', '% Children in Poverty (Hispanic)', '% Children in Poverty (White)', '80th Percentile Income', '20th Percentile Income', 'Income Ratio', 'Z-Score.25', '# Children in Single-Parent Households', '# Children in Households', '% Children in Single-Parent Households', '95% CI - Low.15', '95% CI - High.15', 'Z-Score.26', '# Associations', 'Social Association Rate', 'Z-Score.27', '# Injury Deaths', 'Injury Death Rate', '95% CI - Low.16', '95% CI - High.16', 'Z-Score.28', 'Injury Death Rate (AIAN)', 'Injury Death Rate (AIAN) 95% CI - Low', 'Injury Death Rate (AIAN) 95% CI - High', 'Injury Death Rate (Asian)', 'Injury Death Rate (Asian) 95% CI - Low', 'Injury Death Rate (Asian) 95% CI - High', 'Injury Death Rate (Black)', 'Injury Death Rate (Black) 95% CI - Low', 'Injury Death Rate (Black) 95% CI - High', 'Injury Death Rate (Hispanic)', 'Injury Death Rate (Hispanic) 95% CI - Low', 'Injury Death Rate (Hispanic) 95% CI - High', 'Injury Death Rate (White)', 'Injury Death Rate (White) 95% CI - Low', 'Injury Death Rate (White) 95% CI - High', 'Average Daily PM2.5', 'Z-Score.29', 'Presence of Water Violation', 'Z-Score.30', '% Severe Housing Problems', '95% CI - Low.17', '95% CI - High.17', 'Severe Housing Cost Burden', 'Severe Housing Cost Burden 95% CI - Low', 'Severe Housing Cost Burden 95% CI - High', 'Overcrowding', 'Overcrowding 95% CI - Low', 'Overcrowding 95% CI - High', 'Inadequate Facilities', 'Inadequate Facilities 95% CI - Low', 'Inadequate Facilities 95% CI - High', 'Z-Score.31', '% Drive Alone to Work', '95% CI - Low.18', '95% CI - High.18', 'Z-Score.32', '% Drive Alone (AIAN)', '% Drive Alone (AIAN) 95% CI - Low', '% Drive Alone (AIAN) 95% CI - High', '% Drive Alone (Asian)', '% Drive Alone (Asian) 95% CI - Low', '% Drive Alone (Asian) 95% CI - High', '% Drive Alone (Black)', '% Drive Alone (Black) 95% CI - Low', '% Drive Alone (Black) 95% CI - High', '% Drive Alone (Hispanic)', '% Drive Alone (Hispanic) 95% CI - Low', '% Drive Alone (Hispanic) 95% CI - High', '% Drive Alone (White)', '% Drive Alone (White) 95% CI - Low', '% Drive Alone (White) 95% CI - High', '# Workers who Drive Alone', '% Long Commute - Drives Alone', '95% CI - Low.19', '95% CI - High.19', 'Z-Score.33']\n"
     ]
    }
   ],
   "source": [
    "print(ranked_measure_data.columns.tolist())"
   ]
  },
  {
   "cell_type": "code",
   "execution_count": 43,
   "metadata": {},
   "outputs": [],
   "source": [
    "# Initialize a dictionary to store the data\n",
    "data_dict = {}\n",
    "\n",
    "# Extract correct column names\n",
    "column_names = ranked_measure_data.columns.to_list()\n",
    "\n",
    "# Iterate over each row to populate the dictionary\n",
    "for i, row in ranked_measure_data.iterrows():\n",
    "    if i < 2:  # Skip the metadata rows\n",
    "        continue\n",
    "    \n",
    "    # Extract the county name\n",
    "    county = row['County']  # Extract using the correct column name\n",
    "    if pd.isna(county):  # Skip rows where county name is NaN\n",
    "        continue\n",
    "    \n",
    "    # Initialize a dictionary for the county\n",
    "    data_dict[county] = {}\n",
    "    \n",
    "    # Iterate over each variable and extract the valid average value and its corresponding 95% confidence interval\n",
    "    variable = None\n",
    "    for idx in range(3, len(column_names) - 1):  # Start iterating from the 4th column and leave room for CI columns\n",
    "        col = column_names[idx]\n",
    "        value = row[col]\n",
    "        \n",
    "        # Check if the column is a valid variable with 'Rate' or 'Ratio' and has both 95% CI columns\n",
    "        if ('Rate' in col or 'Ratio' in col) and '95% CI' in column_names[idx + 1] and '95% CI' in column_names[idx + 2]:\n",
    "            variable = col\n",
    "            data_dict[county][variable] = {'average': value,\n",
    "                                           '95% CI - Low': row[column_names[idx + 1]],\n",
    "                                           '95% CI - High': row[column_names[idx + 2]]}\n"
   ]
  },
  {
   "cell_type": "code",
   "execution_count": 44,
   "metadata": {},
   "outputs": [
    {
     "name": "stdout",
     "output_type": "stream",
     "text": [
      "Atkinson\n",
      "{'Years of Potential Life Lost Rate': {'average': 11429.804405, '95% CI - Low': 8738.7897501, '95% CI - High': 14120.819061}, 'YPLL Rate (AIAN)': {'average': nan, '95% CI - Low': nan, '95% CI - High': nan}, 'YPLL Rate (Asian)': {'average': nan, '95% CI - Low': nan, '95% CI - High': nan}, 'YPLL Rate (Black)': {'average': nan, '95% CI - Low': nan, '95% CI - High': nan}, 'YPLL Rate (Hispanic)': {'average': nan, '95% CI - Low': nan, '95% CI - High': nan}, 'YPLL Rate (White)': {'average': nan, '95% CI - Low': nan, '95% CI - High': nan}, 'Teen Birth Rate': {'average': 56.640625, '95% CI - Low': 46.333082986, '95% CI - High': 66.948167014}, 'Teen Birth Rate (AIAN)': {'average': nan, '95% CI - Low': nan, '95% CI - High': nan}, 'Teen Birth Rate (Asian)': {'average': nan, '95% CI - Low': nan, '95% CI - High': nan}, 'Teen Birth Rate (Black)': {'average': 45.226130653, '95% CI - Low': 26.803871308, '95% CI - High': 71.476784592}, 'Teen Birth Rate (Hispanic)': {'average': 44.709388972, '95% CI - Low': 30.165236992, '95% CI - High': 63.825432779}, 'Teen Birth Rate (White)': {'average': 68.111455108, '95% CI - Low': 52.677394446, '95% CI - High': 86.654471045}, 'Injury Death Rate': {'average': 96.455268869, '95% CI - Low': 68.909058215, '95% CI - High': 131.3446997}, 'Injury Death Rate (AIAN)': {'average': nan, '95% CI - Low': nan, '95% CI - High': nan}, 'Injury Death Rate (Asian)': {'average': nan, '95% CI - Low': nan, '95% CI - High': nan}, 'Injury Death Rate (Black)': {'average': nan, '95% CI - Low': nan, '95% CI - High': nan}, 'Injury Death Rate (Hispanic)': {'average': nan, '95% CI - Low': nan, '95% CI - High': nan}, 'Injury Death Rate (White)': {'average': nan, '95% CI - Low': nan, '95% CI - High': nan}}\n",
      "Bacon\n",
      "{'Years of Potential Life Lost Rate': {'average': 12649.824162, '95% CI - Low': 10392.750491, '95% CI - High': 14906.897832}, 'YPLL Rate (AIAN)': {'average': nan, '95% CI - Low': nan, '95% CI - High': nan}, 'YPLL Rate (Asian)': {'average': nan, '95% CI - Low': nan, '95% CI - High': nan}, 'YPLL Rate (Black)': {'average': 15445.220506, '95% CI - Low': 10178.497636, '95% CI - High': 22471.98493}, 'YPLL Rate (Hispanic)': {'average': nan, '95% CI - Low': nan, '95% CI - High': nan}, 'YPLL Rate (White)': {'average': 12715.129935, '95% CI - Low': 9992.3862662, '95% CI - High': 15437.873604}, 'Teen Birth Rate': {'average': 38.182512409, '95% CI - Low': 30.698739977, '95% CI - High': 45.666284842}, 'Teen Birth Rate (AIAN)': {'average': nan, '95% CI - Low': nan, '95% CI - High': nan}, 'Teen Birth Rate (Asian)': {'average': nan, '95% CI - Low': nan, '95% CI - High': nan}, 'Teen Birth Rate (Black)': {'average': 55.813953488, '95% CI - Low': 35.76105315, '95% CI - High': 83.04673859}, 'Teen Birth Rate (Hispanic)': {'average': 58.823529412, '95% CI - Low': 34.86255157, '95% CI - High': 92.966536822}, 'Teen Birth Rate (White)': {'average': 30.999465526, '95% CI - Low': 23.539193843, '95% CI - High': 40.073997726}, 'Injury Death Rate': {'average': 82.03152864, '95% CI - Low': 60.057388917, '95% CI - High': 109.41856358}, 'Injury Death Rate (AIAN)': {'average': nan, '95% CI - Low': nan, '95% CI - High': nan}, 'Injury Death Rate (Asian)': {'average': nan, '95% CI - Low': nan, '95% CI - High': nan}, 'Injury Death Rate (Black)': {'average': 106.46225913, '95% CI - Low': 51.052791399, '95% CI - High': 195.78788504}, 'Injury Death Rate (Hispanic)': {'average': nan, '95% CI - Low': nan, '95% CI - High': nan}, 'Injury Death Rate (White)': {'average': 79.692820401, '95% CI - Low': 54.856870663, '95% CI - High': 111.91834932}}\n"
     ]
    }
   ],
   "source": [
    "# Print the dictionary for a couple of counties to preview the data structure\n",
    "for county in list(data_dict.keys())[:2]:\n",
    "    print(county)\n",
    "    print(data_dict[county])"
   ]
  }
 ],
 "metadata": {
  "kernelspec": {
   "display_name": "base",
   "language": "python",
   "name": "python3"
  },
  "language_info": {
   "codemirror_mode": {
    "name": "ipython",
    "version": 3
   },
   "file_extension": ".py",
   "mimetype": "text/x-python",
   "name": "python",
   "nbconvert_exporter": "python",
   "pygments_lexer": "ipython3",
   "version": "3.10.9"
  },
  "orig_nbformat": 4
 },
 "nbformat": 4,
 "nbformat_minor": 2
}
