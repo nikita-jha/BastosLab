{
 "cells": [
  {
   "cell_type": "code",
   "execution_count": 12,
   "metadata": {},
   "outputs": [],
   "source": [
    "import pandas as pd\n",
    "import os\n"
   ]
  },
  {
   "cell_type": "code",
   "execution_count": 10,
   "metadata": {},
   "outputs": [
    {
     "name": "stdout",
     "output_type": "stream",
     "text": [
      "Requirement already satisfied: openpyxl in /Users/nikitajha/miniconda3/lib/python3.10/site-packages (3.1.2)\n",
      "Requirement already satisfied: et-xmlfile in /Users/nikitajha/miniconda3/lib/python3.10/site-packages (from openpyxl) (1.1.0)\n",
      "Note: you may need to restart the kernel to use updated packages.\n"
     ]
    }
   ],
   "source": [
    "pip install openpyxl"
   ]
  },
  {
   "cell_type": "code",
   "execution_count": 11,
   "metadata": {},
   "outputs": [],
   "source": [
    "import openpyxl"
   ]
  },
  {
   "cell_type": "code",
   "execution_count": 3,
   "metadata": {},
   "outputs": [
    {
     "name": "stdout",
     "output_type": "stream",
     "text": [
      "The file 2023 County Health Rankings Georgia Data - v3.xlsx exists and is accessible.\n"
     ]
    }
   ],
   "source": [
    "filename = \"2023 County Health Rankings Georgia Data - v3.xlsx\"\n",
    "\n",
    "if os.path.exists(filename):\n",
    "    print(f\"The file {filename} exists and is accessible.\")\n",
    "else:\n",
    "    print(f\"The file {filename} does not exist or is not accessible.\")"
   ]
  },
  {
   "cell_type": "code",
   "execution_count": 13,
   "metadata": {},
   "outputs": [],
   "source": [
    "ranked_measure_data = pd.read_excel(filename, sheet_name=\"Ranked Measure Data\", engine=\"openpyxl\")\n",
    "additional_measure_data = pd.read_excel(filename, sheet_name=\"Additional Measure Data\", engine=\"openpyxl\")"
   ]
  },
  {
   "cell_type": "code",
   "execution_count": 22,
   "metadata": {},
   "outputs": [
    {
     "name": "stdout",
     "output_type": "stream",
     "text": [
      "  Unnamed: 0 Unnamed: 1 Unnamed: 2 Premature Death Unnamed: 4  \\\n",
      "0       FIPS      State     County      Unreliable     Deaths   \n",
      "1      13000    Georgia        NaN             NaN     143179   \n",
      "2      13001    Georgia    Appling             NaN        379   \n",
      "3      13003    Georgia   Atkinson             NaN        154   \n",
      "4      13005    Georgia      Bacon             NaN        241   \n",
      "\n",
      "                          Unnamed: 5    Unnamed: 6     Unnamed: 7 Unnamed: 8  \\\n",
      "0  Years of Potential Life Lost Rate  95% CI - Low  95% CI - High    Z-Score   \n",
      "1                        8016.730946   7955.977709    8077.484183        NaN   \n",
      "2                       11113.699673   9345.538818   12881.860528   0.501568   \n",
      "3                       11429.804405    8738.78975   14120.819061   0.644947   \n",
      "4                       12649.824162  10392.750491   14906.897832   1.198325   \n",
      "\n",
      "         Unnamed: 9  ...                           Unnamed: 236  \\\n",
      "0  YPLL Rate (AIAN)  ...  % Drive Alone (Hispanic) 95% CI - Low   \n",
      "1       2896.759045  ...                              65.483151   \n",
      "2               NaN  ...                                    NaN   \n",
      "3               NaN  ...                                    NaN   \n",
      "4               NaN  ...                                    NaN   \n",
      "\n",
      "                             Unnamed: 237           Unnamed: 238  \\\n",
      "0  % Drive Alone (Hispanic) 95% CI - High  % Drive Alone (White)   \n",
      "1                               67.153833               78.84766   \n",
      "2                                     NaN              83.927218   \n",
      "3                                     NaN                    NaN   \n",
      "4                                     NaN                    NaN   \n",
      "\n",
      "                         Unnamed: 239                         Unnamed: 240  \\\n",
      "0  % Drive Alone (White) 95% CI - Low  % Drive Alone (White) 95% CI - High   \n",
      "1                            78.50712                            79.188199   \n",
      "2                           78.188212                            89.666223   \n",
      "3                                 NaN                                  NaN   \n",
      "4                                 NaN                                  NaN   \n",
      "\n",
      "  Long Commute - Driving Alone                   Unnamed: 242  Unnamed: 243  \\\n",
      "0    # Workers who Drive Alone  % Long Commute - Drives Alone  95% CI - Low   \n",
      "1                      4926936                           42.2     41.770402   \n",
      "2                         7300                           29.1      21.41882   \n",
      "3                         3407                           34.6     26.020449   \n",
      "4                         4198                           31.3     22.869002   \n",
      "\n",
      "    Unnamed: 244 Unnamed: 245  \n",
      "0  95% CI - High      Z-Score  \n",
      "1      42.629598          NaN  \n",
      "2       36.78118    -0.790833  \n",
      "3      43.179551    -0.333588  \n",
      "4      39.730998    -0.607935  \n",
      "\n",
      "[5 rows x 246 columns]\n",
      "  Unnamed: 0 Unnamed: 1 Unnamed: 2  Life Expectancy    Unnamed: 4  \\\n",
      "0       FIPS      State     County  Life Expectancy  95% CI - Low   \n",
      "1      13000    Georgia        NaN        77.309261     77.252649   \n",
      "2      13001    Georgia    Appling         73.87281     72.503273   \n",
      "3      13003    Georgia   Atkinson        73.076566     71.028239   \n",
      "4      13005    Georgia      Bacon         72.45924     70.820697   \n",
      "\n",
      "      Unnamed: 5              Unnamed: 6                           Unnamed: 7  \\\n",
      "0  95% CI - High  Life Expectancy (AIAN)  Life Expectancy (AIAN) 95% CI - Low   \n",
      "1      77.365874              133.416914                           109.807844   \n",
      "2      75.242347                     NaN                                  NaN   \n",
      "3      75.124894                     NaN                                  NaN   \n",
      "4      74.097782                     NaN                                  NaN   \n",
      "\n",
      "                             Unnamed: 8               Unnamed: 9  ...  \\\n",
      "0  Life Expectancy (AIAN) 95% CI - High  Life Expectancy (Asian)  ...   \n",
      "1                            157.025984                87.409696  ...   \n",
      "2                                   NaN                      NaN  ...   \n",
      "3                                   NaN                      NaN  ...   \n",
      "4                                   NaN                      NaN  ...   \n",
      "\n",
      "  Unnamed: 278  % Non-Hispanic White          Unnamed: 280  \\\n",
      "0   % Hispanic  # Non-Hispanic White  % Non-Hispanic White   \n",
      "1    10.230374               5510193             51.022356   \n",
      "2    10.303981                 12626             68.292947   \n",
      "3    27.457991                  4550             54.224765   \n",
      "4     8.764329                  8050             72.659987   \n",
      "\n",
      "   % Not Proficient in English                 Unnamed: 282  Unnamed: 283  \\\n",
      "0  # Not Proficient in English  % Not Proficient in English  95% CI - Low   \n",
      "1                       265531                     2.660126      2.592442   \n",
      "2                          419                     2.407769      1.021604   \n",
      "3                          954                    12.300155      8.443033   \n",
      "4                          163                       1.5646             0   \n",
      "\n",
      "    Unnamed: 284   % Female            % Rural Unnamed: 287  \n",
      "0  95% CI - High   % Female  # Rural Residents      % Rural  \n",
      "1       2.727809  51.203956            2415502     24.93382  \n",
      "2       3.793934   49.90264              13028    71.441106  \n",
      "3      16.157277  49.207484               8375          100  \n",
      "4       3.558311  51.159852               7688    69.286229  \n",
      "\n",
      "[5 rows x 288 columns]\n"
     ]
    }
   ],
   "source": [
    "print(ranked_measure_data.head())\n",
    "print(additional_measure_data.head())"
   ]
  },
  {
   "cell_type": "code",
   "execution_count": 24,
   "metadata": {},
   "outputs": [],
   "source": [
    "# Initialize a dictionary to store the data\n",
    "data_dict = {}\n",
    "\n",
    "# Extract column names\n",
    "column_names = ranked_measure_data.iloc[1].to_list()\n",
    "\n",
    "# Iterate over each row (from the 3rd row onward) to populate the dictionary\n",
    "for i, row in ranked_measure_data.iterrows():\n",
    "    if i < 2:  # Skip the metadata rows\n",
    "        continue\n",
    "    \n",
    "    # Extract the county name\n",
    "    county = row[2]  # County name is in the 3rd column (2nd index)\n",
    "    if pd.isna(county):  # Skip rows where county name is NaN\n",
    "        continue\n",
    "    \n",
    "    # Initialize a dictionary for the county\n",
    "    data_dict[county] = {}\n",
    "    \n",
    "    # Iterate over each variable and extract the average value and its corresponding 95% confidence interval\n",
    "    variable = None\n",
    "    for idx in range(3, len(column_names)):  # Start iterating from the 4th column\n",
    "        col = column_names[idx]\n",
    "        value = row[idx]\n",
    "        \n",
    "        # Check if the column is a string and contains 'Rate' or 'Ratio' or '95% CI'\n",
    "        if isinstance(col, str):\n",
    "            if '95% CI' in col:\n",
    "                if variable is not None:\n",
    "                    ci_type = col.split(' ')[-1]\n",
    "                    data_dict[county][variable][f'95% CI - {ci_type}'] = value\n",
    "            elif 'Rate' in col or 'Ratio' in col:\n",
    "                variable = col\n",
    "                data_dict[county][variable] = {'average': value}"
   ]
  },
  {
   "cell_type": "code",
   "execution_count": 25,
   "metadata": {},
   "outputs": [
    {
     "name": "stdout",
     "output_type": "stream",
     "text": [
      "Appling\n",
      "{}\n",
      "Atkinson\n",
      "{}\n"
     ]
    }
   ],
   "source": [
    "# Print the dictionary for a couple of counties to preview the data structure\n",
    "for county in list(data_dict.keys())[:2]:\n",
    "    print(county)\n",
    "    print(data_dict[county])"
   ]
  }
 ],
 "metadata": {
  "kernelspec": {
   "display_name": "base",
   "language": "python",
   "name": "python3"
  },
  "language_info": {
   "codemirror_mode": {
    "name": "ipython",
    "version": 3
   },
   "file_extension": ".py",
   "mimetype": "text/x-python",
   "name": "python",
   "nbconvert_exporter": "python",
   "pygments_lexer": "ipython3",
   "version": "3.10.9"
  },
  "orig_nbformat": 4
 },
 "nbformat": 4,
 "nbformat_minor": 2
}
