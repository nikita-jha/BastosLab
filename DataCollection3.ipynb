{
 "cells": [
  {
   "cell_type": "code",
   "execution_count": 8,
   "metadata": {},
   "outputs": [],
   "source": [
    "from selenium import webdriver\n",
    "from selenium.webdriver.support.ui import Select\n",
    "from selenium.webdriver.chrome.service import Service\n",
    "from selenium.webdriver.support.ui import WebDriverWait\n",
    "from selenium.webdriver.support import expected_conditions as EC\n",
    "from selenium.webdriver.common.by import By"
   ]
  },
  {
   "cell_type": "code",
   "execution_count": 13,
   "metadata": {},
   "outputs": [],
   "source": [
    "from selenium.webdriver.chrome.options import Options\n",
    "\n",
    "# Set up the WebDriver\n",
    "s = Service(\"/Users/nikitajha/Documents/NikitaFinal/Coding Projects/Selenium/ChromeDriver/chromedriver\")\n",
    "\n",
    "chrome_options = Options()\n",
    "chrome_options.add_experimental_option(\"prefs\", {\n",
    "  \"download.default_directory\": \"/Users/nikitajha/Downloads\",  \n",
    "  \"download.prompt_for_download\": False,\n",
    "  \"download.directory_upgrade\": True,\n",
    "  \"safebrowsing.enabled\": True\n",
    "})\n",
    "\n",
    "driver = webdriver.Chrome(service=s, options=chrome_options)\n",
    "# Navigate to the webpage\n",
    "driver.get(\"https://oasis.state.ga.us/gis/TrendableMaps/agsDrugODTrend.aspx\")\n",
    "\n",
    "# Wait for the dropdown to be available\n",
    "wait = WebDriverWait(driver, 10)\n",
    "measure_dropdown = wait.until(EC.element_to_be_clickable((By.ID, 'drpMeasure')))\n",
    "\n",
    "# Create a Select object for the dropdown\n",
    "select = Select(measure_dropdown)\n",
    "\n",
    "# Select the option by value\n",
    "select.select_by_value('Death Rate')\n",
    "\n",
    "# Now, wait for the submit button to be clickable after the selection\n",
    "submit_button = wait.until(EC.element_to_be_clickable((By.ID, 'imgSubmit')))\n",
    "\n",
    "# Click the submit button\n",
    "submit_button.click()\n",
    "\n",
    "# Wait for the export to Excel button to be clickable\n",
    "excel_button = wait.until(EC.element_to_be_clickable((By.ID, 'ImgSaveData')))\n",
    "\n",
    "# Click the button to export the table to Excel\n",
    "excel_button.click()\n",
    "\n",
    "# Close the browser window when done\n",
    "#driver.quit()\n"
   ]
  }
 ],
 "metadata": {
  "kernelspec": {
   "display_name": "my_new_env",
   "language": "python",
   "name": "python3"
  },
  "language_info": {
   "codemirror_mode": {
    "name": "ipython",
    "version": 3
   },
   "file_extension": ".py",
   "mimetype": "text/x-python",
   "name": "python",
   "nbconvert_exporter": "python",
   "pygments_lexer": "ipython3",
   "version": "3.9.5"
  }
 },
 "nbformat": 4,
 "nbformat_minor": 2
}
