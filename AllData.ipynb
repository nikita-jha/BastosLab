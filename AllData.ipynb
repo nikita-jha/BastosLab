{
 "cells": [
  {
   "cell_type": "code",
   "execution_count": 84,
   "metadata": {},
   "outputs": [],
   "source": [
    "import pandas as pd"
   ]
  },
  {
   "cell_type": "code",
   "execution_count": 85,
   "metadata": {},
   "outputs": [],
   "source": [
    "# file1 = \"./full_database_export.csv\"\n",
    "# file2 = \"./full_database_export_2.csv\"\n",
    "# file3 = \"./oasis_data.csv\"\n",
    "# file4 = \"./oasis_data2.csv\"\n",
    "file5 = \"./oasis_data_temp.csv\"\n",
    "file6 = \"./combined_file.csv\""
   ]
  },
  {
   "cell_type": "code",
   "execution_count": 86,
   "metadata": {},
   "outputs": [],
   "source": [
    "# df1 = pd.read_csv(file1)\n",
    "# df2 = pd.read_csv(file2)\n",
    "# df3 = pd.read_csv(file3)\n",
    "# df4 = pd.read_csv(file4)\n",
    "df5 = pd.read_csv(file5)\n",
    "df6 = pd.read_csv(file6)"
   ]
  },
  {
   "cell_type": "code",
   "execution_count": 87,
   "metadata": {},
   "outputs": [
    {
     "name": "stdout",
     "output_type": "stream",
     "text": [
      "88849\n"
     ]
    }
   ],
   "source": [
    "combined_df = pd.concat([df5, df6], ignore_index=True)\n",
    "num_rows = len(combined_df)\n",
    "print(num_rows)"
   ]
  },
  {
   "cell_type": "code",
   "execution_count": 82,
   "metadata": {},
   "outputs": [],
   "source": [
    "# Fill missing CL_Low and CL_High values with 'N/A'\n",
    "combined_df['CI_Low'] = combined_df['CI_Low'].fillna('N/A')\n",
    "combined_df['CI_High'] = combined_df['CI_High'].fillna('N/A')\n",
    "combined_df = combined_df.sort_values(by='Year')"
   ]
  },
  {
   "cell_type": "code",
   "execution_count": 83,
   "metadata": {},
   "outputs": [],
   "source": [
    "combined_df.to_csv('combined_file.csv', index = False)"
   ]
  }
 ],
 "metadata": {
  "kernelspec": {
   "display_name": "my_new_env",
   "language": "python",
   "name": "python3"
  },
  "language_info": {
   "codemirror_mode": {
    "name": "ipython",
    "version": 3
   },
   "file_extension": ".py",
   "mimetype": "text/x-python",
   "name": "python",
   "nbconvert_exporter": "python",
   "pygments_lexer": "ipython3",
   "version": "3.9.5"
  }
 },
 "nbformat": 4,
 "nbformat_minor": 2
}
