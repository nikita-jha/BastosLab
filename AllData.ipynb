{
 "cells": [
  {
   "cell_type": "code",
   "execution_count": 3,
   "metadata": {},
   "outputs": [],
   "source": [
    "import pandas as pd"
   ]
  },
  {
   "cell_type": "code",
   "execution_count": 4,
   "metadata": {},
   "outputs": [],
   "source": [
    "# file1 = \"./full_database_export.csv\"\n",
    "file2 = \"./full_database_export_2.csv\"\n",
    "# file3 = \"./oasis_data.csv\"\n",
    "# file4 = \"./oasis_data2.csv\"\n",
    "#file5 = \"./oasis_data_temp.csv\"\n",
    "#file6 = \"./combined_file.csv\""
   ]
  },
  {
   "cell_type": "code",
   "execution_count": 5,
   "metadata": {},
   "outputs": [],
   "source": [
    "# df1 = pd.read_csv(file1)\n",
    "df2 = pd.read_csv(file2)\n",
    "# df3 = pd.read_csv(file3)\n",
    "# df4 = pd.read_csv(file4)\n",
    "#df5 = pd.read_csv(file5)\n",
    "#df6 = pd.read_csv(file6)"
   ]
  },
  {
   "cell_type": "code",
   "execution_count": 6,
   "metadata": {},
   "outputs": [
    {
     "name": "stdout",
     "output_type": "stream",
     "text": [
      "20829\n"
     ]
    }
   ],
   "source": [
    "combined_df = pd.concat([df2], ignore_index=True)\n",
    "num_rows = len(combined_df)\n",
    "print(num_rows)"
   ]
  },
  {
   "cell_type": "code",
   "execution_count": 82,
   "metadata": {},
   "outputs": [],
   "source": [
    "# Fill missing CL_Low and CL_High values with 'N/A'\n",
    "combined_df['CI_Low'] = combined_df['CI_Low'].fillna('N/A')\n",
    "combined_df['CI_High'] = combined_df['CI_High'].fillna('N/A')\n",
    "combined_df = combined_df.sort_values(by='Year')"
   ]
  },
  {
   "cell_type": "code",
   "execution_count": 83,
   "metadata": {},
   "outputs": [],
   "source": [
    "combined_df.to_csv('combined_file.csv', index = False)"
   ]
  },
  {
   "cell_type": "code",
   "execution_count": 9,
   "metadata": {},
   "outputs": [],
   "source": [
    "combined_data = pd.read_csv('combined_file.csv')\n",
    "combined_data['Value'] = combined_data['Value'].combine_first(combined_data['Average'])\n",
    "combined_data.drop('Average', axis=1, inplace=True)\n",
    "combined_data['Value'] = combined_data['Value'].fillna(\"N/A\")\n",
    "combined_data['CI_Low'] = combined_data['CI_Low'].fillna(\"N/A\")\n",
    "combined_data['CI_High'] = combined_data['CI_High'].fillna(\"N/A\")\n",
    "combined_data['Value'] = combined_data['Value'].replace(\"*\", \"N/A\")\n",
    "combined_data.to_csv('final_combined_file.csv', index=False)"
   ]
  },
  {
   "cell_type": "code",
   "execution_count": 11,
   "metadata": {},
   "outputs": [],
   "source": [
    "#Fixing Mistakes\n",
    "\n",
    "# Load the full_database_export_2.csv\n",
    "full_database_export_2 = pd.read_csv('full_database_export_2.csv')\n",
    "\n",
    "# Rename 'Average' to 'Value'\n",
    "full_database_export_2.rename(columns={'Average': 'Value'}, inplace=True)\n",
    "\n",
    "# Load the final_combined_file.csv\n",
    "final_combined_file = pd.read_csv('final_combined_file.csv')\n",
    "\n",
    "# Concatenate the dataframes\n",
    "combined_data = pd.concat([final_combined_file, full_database_export_2], ignore_index=True, sort=False).drop_duplicates()\n",
    "combined_data['Value'] = combined_data['Value'].fillna(\"N/A\")\n",
    "combined_data['CI_Low'] = combined_data['CI_Low'].fillna(\"N/A\")\n",
    "combined_data['CI_High'] = combined_data['CI_High'].fillna(\"N/A\")\n",
    "combined_data['Value'] = combined_data['Value'].replace(\"*\", \"N/A\")\n",
    "combined_data['Variable'] = combined_data['Variable'].replace('% Adults Reporting Currently Smoking', '% Smokers')\n",
    "\n",
    "\n",
    "# Save the combined dataframe\n",
    "combined_data.to_csv('final_combined_file.csv', index=False)\n"
   ]
  },
  {
   "cell_type": "code",
   "execution_count": 12,
   "metadata": {},
   "outputs": [],
   "source": [
    "data = pd.read_csv(\"final_combined_file.csv\")\n",
    "data_wide = data.pivot_table(index=['County', 'Year'], columns='Variable', values='Value', aggfunc='first').reset_index()\n",
    "data_wide.columns = [str(col) if isinstance(col, tuple) else col for col in data_wide.columns.values]\n",
    "data_wide.to_csv(\"pivot_wide_format_data.csv\", index=False)"
   ]
  }
 ],
 "metadata": {
  "kernelspec": {
   "display_name": "my_new_env",
   "language": "python",
   "name": "python3"
  },
  "language_info": {
   "codemirror_mode": {
    "name": "ipython",
    "version": 3
   },
   "file_extension": ".py",
   "mimetype": "text/x-python",
   "name": "python",
   "nbconvert_exporter": "python",
   "pygments_lexer": "ipython3",
   "version": "3.9.5"
  }
 },
 "nbformat": 4,
 "nbformat_minor": 2
}
